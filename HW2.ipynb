{
  "nbformat": 4,
  "nbformat_minor": 0,
  "metadata": {
    "colab": {
      "provenance": []
    },
    "kernelspec": {
      "name": "python3",
      "display_name": "Python 3"
    },
    "language_info": {
      "name": "python"
    }
  },
  "cells": [
    {
      "cell_type": "code",
      "source": [
        "import json\n",
        "university_brand = {\n",
        "    \"成大\": 68.690,\n",
        "    \"陽明交大\": 68.612,\n",
        "    \"台大\": 68.175,\n",
        "    \"清大\": 67.660,\n",
        "    \"台科大\": 64.244,\n",
        "    \"政大\": 62.093,\n",
        "    \"北科大\": 60.782,\n",
        "    \"中央\": 54.982,\n",
        "    \"淡江\": 52.128,\n",
        "    \"中興\": 52.085,\n",
        "    \"逢甲\": 50.627,\n",
        "    \"高科大\": 49.272,\n",
        "    \"東海\": 48.721,\n",
        "    \"東吳\": 47.276,\n",
        "    \"中原\": 46.381,\n",
        "    \"雲科大\": 46.099,\n",
        "    \"台師大\": 45.950,\n",
        "    \"中正\": 44.899\n",
        "}\n",
        "university_location = {\n",
        "    \"成大\": [\"南部\"],\n",
        "    \"陽明交大\": [\"北部\"],\n",
        "    \"台大\": [\"北部\"],\n",
        "    \"清大\": [\"北部\"],\n",
        "    \"台科大\": [\"北部\"],\n",
        "    \"政大\": [\"北部\"],\n",
        "    \"北科大\": [\"北部\"],\n",
        "    \"中央\": [\"北部\"],\n",
        "    \"淡江\": [\"北部\"],\n",
        "    \"中興\": [\"中部\"],\n",
        "    \"逢甲\": [\"中部\"],\n",
        "    \"高科大\": [\"南部\"],\n",
        "    \"東海\": [\"中部\"],\n",
        "    \"東吳\": [\"北部\"],\n",
        "    \"中原\": [\"北部\"],\n",
        "    \"雲科大\": [\"中部\"],\n",
        "    \"台師大\": [\"北部\"],\n",
        "    \"中正\": [\"南部\"],\n",
        "}\n",
        "university_publicorprivate = {\n",
        "    \"成大\": [\"國立\"],\n",
        "    \"陽明交大\": [\"國立\"],\n",
        "    \"台大\": [\"國立\"],\n",
        "    \"清大\": [\"國立\"],\n",
        "    \"台科大\": [\"國立科大\"],\n",
        "    \"政大\": [\"國立\"],\n",
        "    \"北科大\": [\"國立科大\"],\n",
        "    \"中央\": [\"國立\"],\n",
        "    \"淡江\": [\"私立\"],\n",
        "    \"中興\": [\"國立\"],\n",
        "    \"逢甲\": [\"私立\"],\n",
        "    \"高科大\": [\"國立科大\"],\n",
        "    \"東海\": [\"私立\"],\n",
        "    \"東吳\": [\"私立\"],\n",
        "    \"中原\": [\"私立\"],\n",
        "    \"雲科大\": [\"國立科大\"],\n",
        "    \"台師大\": [\"國立\"],\n",
        "    \"中正\": [\"國立\"],\n",
        "}\n",
        "universities = {}\n",
        "for university in university_brand:\n",
        "    universities[university] = {\n",
        "        \"brand\": university_brand[university],\n",
        "        \"location\": university_location[university],\n",
        "        \"public_or_private\": university_publicorprivate[university]\n",
        "    }\n",
        "json_data = json.dumps(universities, indent=4, ensure_ascii=False)\n",
        "with open(\"universities.json\", \"w\", encoding=\"utf-8\") as json_file:\n",
        "    json_file.write(json_data)\n"
      ],
      "metadata": {
        "id": "qZWVjsLuIyW_"
      },
      "execution_count": 3,
      "outputs": []
    },
    {
      "cell_type": "code",
      "source": [
        "# 問題1：在品牌力排名前五的大學當中，有幾所是位於北部的國立大學或國立科大？\n",
        "top_five_universities = list(university_brand.keys())[:5]\n",
        "\n",
        "num_northern_public_universities = sum(1 for uni in top_five_universities if \"北部\" in university_location[uni] and (\"國立\" in university_publicorprivate[uni] or \"國立科大\" in university_publicorprivate[uni]))\n",
        "\n",
        "print(\"在品牌力排名前五的大學中，位於北部的國立大學或國立科大的數量為:\", num_northern_public_universities)"
      ],
      "metadata": {
        "colab": {
          "base_uri": "https://localhost:8080/"
        },
        "id": "mKxhE2Z4eili",
        "outputId": "a5b19deb-2077-4edc-fe77-482441959709"
      },
      "execution_count": 5,
      "outputs": [
        {
          "output_type": "stream",
          "name": "stdout",
          "text": [
            "在品牌力排名前五的大學中，位於北部的國立大學或國立科大的數量為: 4\n"
          ]
        }
      ]
    },
    {
      "cell_type": "code",
      "source": [
        "# 問題2：師大在全部的資料當中排名第幾呢？品牌力是多少？\n",
        "rank = sorted(university_brand.items(), key=lambda x: x[1], reverse=True).index((\"台師大\", university_brand[\"台師大\"])) + 1\n",
        "\n",
        "brand_power = university_brand[\"台師大\"]\n",
        "\n",
        "print(\"師大在全部的資料當中排名第\", rank, \"，品牌力是\", brand_power)\n"
      ],
      "metadata": {
        "id": "36ETq_2YKep4",
        "outputId": "cfc6c60d-b3e8-41fd-f509-4f40f620cbf8",
        "colab": {
          "base_uri": "https://localhost:8080/"
        }
      },
      "execution_count": 6,
      "outputs": [
        {
          "output_type": "stream",
          "name": "stdout",
          "text": [
            "師大在全部的資料當中排名第 17 ，品牌力是 45.95\n"
          ]
        }
      ]
    },
    {
      "cell_type": "code",
      "source": [
        "# 問題3：全部的資料當中，有幾所是私立大學呢，分別是那些學校？\n",
        "num_private_universities = 0\n",
        "private_universities = []\n",
        "\n",
        "for university, ownership in university_publicorprivate.items():\n",
        "    if \"私立\" in ownership:\n",
        "        num_private_universities += 1\n",
        "        private_universities.append(university)\n",
        "\n",
        "print(\"全部的資料當中，有\", num_private_universities, \"所是私立大學，分別是:\", private_universities)\n"
      ],
      "metadata": {
        "colab": {
          "base_uri": "https://localhost:8080/"
        },
        "id": "jzTdN87NJLGr",
        "outputId": "885d389d-9719-48b9-ce38-92d91d48bdaa"
      },
      "execution_count": 8,
      "outputs": [
        {
          "output_type": "stream",
          "name": "stdout",
          "text": [
            "全部的資料當中，有 5 所是私立大學，分別是: ['淡江', '逢甲', '東海', '東吳', '中原']\n"
          ]
        }
      ]
    }
  ]
}