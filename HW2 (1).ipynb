{
  "nbformat": 4,
  "nbformat_minor": 0,
  "metadata": {
    "colab": {
      "provenance": []
    },
    "kernelspec": {
      "name": "python3",
      "display_name": "Python 3"
    },
    "language_info": {
      "name": "python"
    }
  },
  "cells": [
    {
      "cell_type": "code",
      "source": [
        "import json\n",
        "university_brand = {\n",
        "    \"成大\": 68.690,\n",
        "    \"陽明交大\": 68.612,\n",
        "    \"台大\": 68.175,\n",
        "    \"清大\": 67.660,\n",
        "    \"台科大\": 64.244,\n",
        "    \"政大\": 62.093,\n",
        "    \"北科大\": 60.782,\n",
        "    \"中央\": 54.982,\n",
        "    \"淡江\": 52.128,\n",
        "    \"中興\": 52.085,\n",
        "    \"逢甲\": 50.627,\n",
        "    \"高科大\": 49.272,\n",
        "    \"東海\": 48.721,\n",
        "    \"東吳\": 47.276,\n",
        "    \"中原\": 46.381,\n",
        "    \"雲科大\": 46.099,\n",
        "    \"台師大\": 45.950,\n",
        "    \"中正\": 44.899\n",
        "}\n",
        "university_location = {\n",
        "    \"成大\": [\"南部\"],\n",
        "    \"陽明交大\": [\"北部\"],\n",
        "    \"台大\": [\"北部\"],\n",
        "    \"清大\": [\"北部\"],\n",
        "    \"台科大\": [\"北部\"],\n",
        "    \"政大\": [\"北部\"],\n",
        "    \"北科大\": [\"北部\"],\n",
        "    \"中央\": [\"北部\"],\n",
        "    \"淡江\": [\"北部\"],\n",
        "    \"中興\": [\"中部\"],\n",
        "    \"逢甲\": [\"中部\"],\n",
        "    \"高科大\": [\"南部\"],\n",
        "    \"東海\": [\"中部\"],\n",
        "    \"東吳\": [\"北部\"],\n",
        "    \"中原\": [\"北部\"],\n",
        "    \"雲科大\": [\"中部\"],\n",
        "    \"台師大\": [\"北部\"],\n",
        "    \"中正\": [\"南部\"],\n",
        "}\n",
        "university_publicorprivate = {\n",
        "    \"成大\": [\"國立\"],\n",
        "    \"陽明交大\": [\"國立\"],\n",
        "    \"台大\": [\"國立\"],\n",
        "    \"清大\": [\"國立\"],\n",
        "    \"台科大\": [\"國立科大\"],\n",
        "    \"政大\": [\"國立\"],\n",
        "    \"北科大\": [\"國立科大\"],\n",
        "    \"中央\": [\"國立\"],\n",
        "    \"淡江\": [\"私立\"],\n",
        "    \"中興\": [\"國立\"],\n",
        "    \"逢甲\": [\"私立\"],\n",
        "    \"高科大\": [\"國立科大\"],\n",
        "    \"東海\": [\"私立\"],\n",
        "    \"東吳\": [\"私立\"],\n",
        "    \"中原\": [\"私立\"],\n",
        "    \"雲科大\": [\"國立科大\"],\n",
        "    \"台師大\": [\"國立\"],\n",
        "    \"中正\": [\"國立\"],\n",
        "}\n",
        "universities = {}\n",
        "for university in university_brand:\n",
        "    universities[university] = {\n",
        "        \"brand\": university_brand[university],\n",
        "        \"location\": university_location[university],\n",
        "        \"public_or_private\": university_publicorprivate[university]\n",
        "    }\n",
        "json_data = json.dumps(universities, indent=4, ensure_ascii=False)\n",
        "with open(\"universities.json\", \"w\", encoding=\"utf-8\") as json_file:\n",
        "    json_file.write(json_data)\n",
        "\n",
        "print(\"JSON 文件已生成！\")"
      ],
      "metadata": {
        "colab": {
          "base_uri": "https://localhost:8080/"
        },
        "id": "qZWVjsLuIyW_",
        "outputId": "f41e6620-4a33-4202-d042-b6f0462ef34f"
      },
      "execution_count": null,
      "outputs": [
        {
          "output_type": "stream",
          "name": "stdout",
          "text": [
            "JSON 文件已生成！\n"
          ]
        }
      ]
    },
    {
      "cell_type": "code",
      "source": [
        "# 提取前五所大学的名称\n",
        "top_five_universities = list(university_brand.keys())[:5]\n",
        "\n",
        "# 计算位于北部的国立大学或國立科大的数量\n",
        "num_northern_public_universities = sum(1 for uni in top_five_universities if \"北部\" in university_location[uni] and (\"國立\" in university_publicorprivate[uni] or \"國立科大\" in university_publicorprivate[uni]))\n",
        "\n",
        "print(\"在品牌力排名前五的大学中，位于北部的国立大学或國立科大的数量为:\", num_northern_public_universities)\n"
      ],
      "metadata": {
        "id": "p11fk6QJKa7P",
        "outputId": "ea8c9b9e-a721-4d1c-c099-7a51e32fda2d",
        "colab": {
          "base_uri": "https://localhost:8080/"
        }
      },
      "execution_count": null,
      "outputs": [
        {
          "output_type": "stream",
          "name": "stdout",
          "text": [
            "在品牌力排名前五的大学中，位于北部的国立大学或國立科大的数量为: 4\n"
          ]
        }
      ]
    },
    {
      "cell_type": "code",
      "source": [
        "# 找到師大的品牌力排名\n",
        "rank = sorted(university_brand.items(), key=lambda x: x[1], reverse=True).index((\"台師大\", university_brand[\"台師大\"])) + 1\n",
        "\n",
        "# 获取師大的品牌力值\n",
        "brand_power = university_brand[\"台師大\"]\n",
        "\n",
        "print(\"師大在全部的資料當中排名第\", rank, \"，品牌力是\", brand_power)\n"
      ],
      "metadata": {
        "id": "36ETq_2YKep4",
        "outputId": "d837e54e-4f69-43b9-96e6-2c27acbd1340",
        "colab": {
          "base_uri": "https://localhost:8080/"
        }
      },
      "execution_count": null,
      "outputs": [
        {
          "output_type": "stream",
          "name": "stdout",
          "text": [
            "師大在全部的資料當中排名第 17 ，品牌力是 45.95\n"
          ]
        }
      ]
    },
    {
      "cell_type": "code",
      "source": [
        "\n",
        "# 初始化私立大学数量和名称列表\n",
        "num_private_universities = 0\n",
        "private_universities = []\n",
        "\n",
        "# 遍历大学名称和对应的公立/私立信息字典\n",
        "for university, ownership in university_publicorprivate.items():\n",
        "    if \"私立\" in ownership:\n",
        "        num_private_universities += 1\n",
        "        private_universities.append(university)\n",
        "\n",
        "print(\"全部的資料當中，有\", num_private_universities, \"所是私立大學，分別是:\", private_universities)\n"
      ],
      "metadata": {
        "colab": {
          "base_uri": "https://localhost:8080/"
        },
        "id": "jzTdN87NJLGr",
        "outputId": "8156b5c9-33ea-46aa-e004-a12fb13ea18c"
      },
      "execution_count": null,
      "outputs": [
        {
          "output_type": "stream",
          "name": "stdout",
          "text": [
            "全部的資料當中，有 5 所是私立大學，分別是: ['淡江', '逢甲', '東海', '東吳', '中原']\n"
          ]
        }
      ]
    }
  ]
}