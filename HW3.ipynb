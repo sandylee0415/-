{
  "nbformat": 4,
  "nbformat_minor": 0,
  "metadata": {
    "colab": {
      "provenance": []
    },
    "kernelspec": {
      "name": "python3",
      "display_name": "Python 3"
    },
    "language_info": {
      "name": "python"
    }
  },
  "cells": [
    {
      "cell_type": "code",
      "source": [
        "import requests\n",
        "from bs4 import BeautifulSoup\n",
        "import re\n",
        "import pandas as pd\n",
        "import json\n",
        "\n",
        "# 定義要爬取的網站URL\n",
        "url = \"https://mindy05tw.pixnet.net/blog/post/68078577\"\n",
        "\n",
        "# 發送HTTP請求，獲取網頁內容\n",
        "response = requests.get(url)\n",
        "\n",
        "# 使用BeautifulSoup解析HTML內容\n",
        "soup = BeautifulSoup(response.content, \"html.parser\")\n",
        "\n",
        "# 手動指定標題和日期\n",
        "title = \"柯爾柏格道德發展的三期六段論\"\n",
        "date = \"Jun 13 2019 03:45\"\n",
        "\n",
        "# 提取內容\n",
        "content = \"\"\n",
        "content_tag = soup.find(\"div\", class_=\"article-content-inner\")\n",
        "if content_tag:\n",
        "    for paragraph in content_tag.find_all(\"p\"):\n",
        "        content += paragraph.text.strip() + \"\\n\"\n",
        "else:\n",
        "    content = \"Content Not Found\"\n",
        "\n",
        "# 印出提取的資料\n",
        "print(\"標題:\", title)\n",
        "print(\"日期:\", date)\n",
        "print(\"內容:\\n\", content)\n",
        "\n",
        "\n",
        "\n"
      ],
      "metadata": {
        "colab": {
          "base_uri": "https://localhost:8080/"
        },
        "id": "rQGapmchvgZq",
        "outputId": "95d9a8fa-581d-4d5c-ba00-62280505dda3"
      },
      "execution_count": 19,
      "outputs": [
        {
          "output_type": "stream",
          "name": "stdout",
          "text": [
            "標題: 柯爾柏格道德發展的三期六段論\n",
            "日期: Jun 13 2019 03:45\n",
            "內容:\n",
            " 柯爾柏格道德發展的三期六段論\n",
            "一、道德成規前期：學前幼稚園至小學中低年級(九歲以下)\n",
            "(一)避罰服從取向：恐懼懲罰，無條件服從權威者，個體認為凡是不被懲罰的行為都是好的；遭到批評、指責的行為都是壞的。\n",
            "(二)相對功利取向：行為對錯視行為後果賞罰而定，道德是一種利益交換，希望得到比付出多，類似買賣的關係，認為得到利益就是好的。\n",
            "二、道德循規期：小學高年級到青春期(九到十二歲)\n",
            "(三)尋求認可取向：以人際關係和諧導向，順從傳統要求，表現從眾行為。\n",
            "(四)順從權威取向：以法治觀念判斷是非，信守法律權威，重視社會秩序。\n",
            "三、道德自律期：青年末期接近人格成熟時開始(十二歲以上)\n",
            "(五)法治觀念取向：表現思考的靈活性，不用單一的規則去評價個體行為，法律為公益而制定，行為對錯視雙方契約或大眾的共同認可而定。\n",
            "(六)普遍倫理取向：個人根據他人的人生觀和價值觀，以建立道德判斷、一致和普遍性的信念，信念的基礎是人性尊嚴、真理、正義和人權。\n",
            "\n"
          ]
        }
      ]
    }
  ]
}